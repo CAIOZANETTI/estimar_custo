{
  "cells": [
    {
      "cell_type": "markdown",
      "metadata": {
        "id": "view-in-github",
        "colab_type": "text"
      },
      "source": [
        "<a href=\"https://colab.research.google.com/github/CAIOZANETTI/estimar_custo/blob/main/estimativa_custo.ipynb\" target=\"_parent\"><img src=\"https://colab.research.google.com/assets/colab-badge.svg\" alt=\"Open In Colab\"/></a>"
      ]
    },
    {
      "cell_type": "markdown",
      "source": [
        "#1.Carregar"
      ],
      "metadata": {
        "id": "NlJWJ-tTbPHc"
      },
      "id": "NlJWJ-tTbPHc"
    },
    {
      "cell_type": "code",
      "execution_count": 1,
      "id": "ba2ad6d2-a4ca-4944-9ced-352cd7d8a287",
      "metadata": {
        "jupyter": {
          "source_hidden": true
        },
        "tags": [],
        "id": "ba2ad6d2-a4ca-4944-9ced-352cd7d8a287",
        "cellView": "form"
      },
      "outputs": [],
      "source": [
        "# @title 1.1.Pacotes Python\n",
        "# Instalar\n",
        "\n",
        "import os\n",
        "import pandas as pd\n",
        "\n",
        "# configuração do Notebook\n",
        "from IPython.display import display, Markdown\n",
        "pd.options.mode.chained_assignment = None\n",
        "pd.options.display.float_format = '{:,.0f}'.format\n",
        "pd.set_option('display.max_colwidth', None) # mostrar nome completo\n",
        "\n",
        "import warnings\n",
        "# Suprimir todos os avisos\n",
        "warnings.filterwarnings(\"ignore\")\n"
      ]
    },
    {
      "cell_type": "code",
      "source": [
        "# @title 1.2.Carregar Github\n",
        "!git clone https://github.com/CAIOZANETTI/estimar_custo\n"
      ],
      "metadata": {
        "colab": {
          "base_uri": "https://localhost:8080/"
        },
        "id": "IkYs7bDsS7fX",
        "outputId": "f77a9e5a-c978-4f90-e0f8-7d17adddc466",
        "cellView": "form"
      },
      "id": "IkYs7bDsS7fX",
      "execution_count": 2,
      "outputs": [
        {
          "output_type": "stream",
          "name": "stdout",
          "text": [
            "fatal: destination path 'estimar_custo' already exists and is not an empty directory.\n"
          ]
        }
      ]
    },
    {
      "cell_type": "code",
      "source": [
        "# @title 1.3.Nomear Funções\n",
        "import estimar_custo.funcoes as fx"
      ],
      "metadata": {
        "id": "uFnFiMgrXMVU"
      },
      "id": "uFnFiMgrXMVU",
      "execution_count": 3,
      "outputs": []
    },
    {
      "cell_type": "code",
      "execution_count": 4,
      "id": "91694b41-0089-400e-b542-1805f17f3209",
      "metadata": {
        "tags": [],
        "id": "91694b41-0089-400e-b542-1805f17f3209",
        "colab": {
          "base_uri": "https://localhost:8080/"
        },
        "outputId": "a31b53ad-ddb1-4a72-9900-4a36fa100876"
      },
      "outputs": [
        {
          "output_type": "execute_result",
          "data": {
            "text/plain": [
              "{'natural': {'grupos': 0, 'plan': 0, 'cpu': 0, 'ins': 0},\n",
              " 'normalizado': {'grupos': 0, 'plan': 0, 'cpu': 0, 'ins': 0},\n",
              " 'plan_cpu_ins': {'natural': 0, 'normalizado': 0, 'apelidado': 0}}"
            ]
          },
          "metadata": {},
          "execution_count": 4
        }
      ],
      "source": [
        "# @title 1.4.Criar Dicionarios \"dfs={}\"\n",
        "# natural, normalizado, classificado, transformado\n",
        "\n",
        "dfs = {\n",
        "    'natural':{'grupos':0,'plan':0,'cpu':0,'ins':0},\n",
        "    'normalizado':{'grupos':0,'plan':0,'cpu':0,'ins':0},\n",
        "    'plan_cpu_ins':{'natural':0,'normalizado':0,'apelidado':0},\n",
        "}\n",
        "# apelidade, reconhecido, desconhecido...\n",
        "dfs"
      ]
    },
    {
      "cell_type": "markdown",
      "source": [
        "#2.Importar"
      ],
      "metadata": {
        "id": "Ih4u2RO-jXIJ"
      },
      "id": "Ih4u2RO-jXIJ"
    },
    {
      "cell_type": "code",
      "execution_count": 16,
      "id": "afd87659-0afb-429f-b519-3e982e121de0",
      "metadata": {
        "tags": [],
        "id": "afd87659-0afb-429f-b519-3e982e121de0",
        "colab": {
          "base_uri": "https://localhost:8080/",
          "height": 399
        },
        "outputId": "e5a97404-b2c6-4f5c-ba22-fc5fc140b68d"
      },
      "outputs": [
        {
          "output_type": "stream",
          "name": "stdout",
          "text": [
            "<class 'pandas.core.frame.DataFrame'>\n",
            "RangeIndex: 617 entries, 0 to 616\n",
            "Data columns (total 14 columns):\n",
            " #   Column           Non-Null Count  Dtype \n",
            "---  ------           --------------  ----- \n",
            " 0   disciplina       617 non-null    object\n",
            " 1   etapa            617 non-null    object\n",
            " 2    grupo           617 non-null    object\n",
            " 3    subgrupo        617 non-null    object\n",
            " 4    tipo            617 non-null    object\n",
            " 5   unid             617 non-null    object\n",
            " 6   a_contem         617 non-null    object\n",
            " 7   b_contem         617 non-null    object\n",
            " 8   c_contem         617 non-null    object\n",
            " 9   d_contem         617 non-null    object\n",
            " 10  ignorar          617 non-null    object\n",
            " 11  fx_apelido       617 non-null    object\n",
            " 12  apelido_nomeado  617 non-null    object\n",
            " 13  apelido          617 non-null    object\n",
            "dtypes: object(14)\n",
            "memory usage: 67.6+ KB\n"
          ]
        },
        {
          "output_type": "display_data",
          "data": {
            "text/plain": [
              "None"
            ]
          },
          "metadata": {}
        }
      ],
      "source": [
        "# @title 2.1.Planilha Apelidos e Grupos\n",
        "from google.colab import userdata\n",
        "df = pd.read_csv(userdata.get('url_apelidos')+'/export?format=csv')\n",
        "\n",
        "df.fillna(0, inplace=True)\n",
        "display(df.info())\n",
        "dfs['natural']['grupos'] = df"
      ]
    },
    {
      "cell_type": "code",
      "source": [
        "# @title 2.2. Carregar:**planilha_analisar.xlsx** aba:**ler_pandas**\n",
        "# copiar e renomear arquivo\n",
        "arquivo = '/content/planilha_analisar.xlsx'\n",
        "\n",
        "df=pd.read_excel(arquivo, sheet_name='ler_pandas')\n",
        "\n",
        "display(df.info())\n",
        "dfs['natural']['plan'] = df"
      ],
      "metadata": {
        "id": "jBY7tsxDsHeW",
        "colab": {
          "base_uri": "https://localhost:8080/",
          "height": 295
        },
        "outputId": "67eeae82-3d63-47e4-e913-473bd406805e"
      },
      "id": "jBY7tsxDsHeW",
      "execution_count": 7,
      "outputs": [
        {
          "output_type": "stream",
          "name": "stdout",
          "text": [
            "<class 'pandas.core.frame.DataFrame'>\n",
            "RangeIndex: 2998 entries, 0 to 2997\n",
            "Data columns (total 8 columns):\n",
            " #   Column    Non-Null Count  Dtype  \n",
            "---  ------    --------------  -----  \n",
            " 0   codigo    2803 non-null   float64\n",
            " 1   nome      2998 non-null   object \n",
            " 2   unid      2998 non-null   object \n",
            " 3   qtd       2998 non-null   float64\n",
            " 4   unit      2803 non-null   float64\n",
            " 5   parcial   0 non-null      float64\n",
            " 6   arquivo   2807 non-null   object \n",
            " 7   aba       2807 non-null   object \n",
            "dtypes: float64(4), object(4)\n",
            "memory usage: 187.5+ KB\n"
          ]
        },
        {
          "output_type": "display_data",
          "data": {
            "text/plain": [
              "None"
            ]
          },
          "metadata": {}
        }
      ]
    },
    {
      "cell_type": "code",
      "execution_count": null,
      "id": "812e757b-fe62-4d4c-a667-740fab0bec45",
      "metadata": {
        "jupyter": {
          "source_hidden": true
        },
        "tags": [],
        "id": "812e757b-fe62-4d4c-a667-740fab0bec45"
      },
      "outputs": [],
      "source": [
        "# @title 2.3. Escolher planilha **Custo** { form-width: \"25%\" }\n",
        "diretorio = '/content/estimar_custo/plan_custo'\n",
        "files = [f for f in os.listdir(diretorio) if not f.endswith('.md')]\n",
        "arquivo = diretorio+'/'+files[0]\n",
        "\n",
        "dfs['natural']['cpu']=pd.read_excel(arquivo, sheet_name='cpu',usecols='A:F',skiprows=1)\n",
        "dfs['natural']['ins']=pd.read_excel(arquivo, sheet_name='ins',usecols='A:J',skiprows=1)\n",
        "\n",
        "display(dfs['natural']['cpu'].info())"
      ]
    },
    {
      "cell_type": "code",
      "source": [
        "# @title 2.4. Mostrar Planilha **ins**\n",
        "dfs['natural']['ins']=pd.read_excel(arquivo, sheet_name='ins',usecols='A:J',skiprows=1)\n",
        "display(dfs['natural']['ins'].info())"
      ],
      "metadata": {
        "id": "JdkLeldJZcGB"
      },
      "id": "JdkLeldJZcGB",
      "execution_count": null,
      "outputs": []
    },
    {
      "cell_type": "markdown",
      "source": [
        "# 3.Normalizar"
      ],
      "metadata": {
        "id": "bB9ubcEdiVa5"
      },
      "id": "bB9ubcEdiVa5"
    },
    {
      "cell_type": "code",
      "execution_count": null,
      "id": "c1b34cef-79f5-4759-8e79-7320e5f53c23",
      "metadata": {
        "jupyter": {
          "source_hidden": true
        },
        "tags": [],
        "id": "c1b34cef-79f5-4759-8e79-7320e5f53c23"
      },
      "outputs": [],
      "source": [
        "# @title 3.1.CPU\n",
        "df = dfs['natural']['cpu']\n",
        "\n",
        "display(Markdown('natural'))\n",
        "display(df.shape)\n",
        "display(df.head(3))\n",
        "df['unit'] = df['mat']+df['mo']\n",
        "df['parcial'] = df['qtd']*df['unit']\n",
        "\n",
        "df['origem'] = 'custo'\n",
        "df['obra'] = ''\n",
        "df['arquivo'] = ''\n",
        "df['aba'] = 'cpu'\n",
        "\n",
        "df.drop(['mat', 'mo'], axis=1, inplace=True)\n",
        "display(Markdown('normalizado'))\n",
        "display(df.head(3))\n",
        "\n",
        "dfs['normalizado']['cpu'] = df"
      ]
    },
    {
      "cell_type": "code",
      "execution_count": null,
      "id": "89e5a0a6-cdd8-460b-830b-794e2dfa918c",
      "metadata": {
        "jupyter": {
          "source_hidden": true
        },
        "tags": [],
        "id": "89e5a0a6-cdd8-460b-830b-794e2dfa918c"
      },
      "outputs": [],
      "source": [
        "# @title 3.2.**Insumos**\n",
        "df = dfs['natural']['ins']\n",
        "display(Markdown('natural'))\n",
        "display(df.shape)\n",
        "display(df.head(3))\n",
        "\n",
        "df['origem'] = 'custo'\n",
        "df['obra'] = ''\n",
        "df['arquivo'] = ''\n",
        "df['aba'] = 'ins'\n",
        "\n",
        "df.drop(['grupo', 'subgrupo','fd'], axis=1, inplace=True)\n",
        "display(Markdown('Normalizado'))\n",
        "display(df.head(3))\n",
        "dfs['normalizado']['ins'] = df"
      ]
    },
    {
      "cell_type": "code",
      "execution_count": null,
      "id": "3da6da3e-e53d-4d4b-be1c-1dc5777b7ad5",
      "metadata": {
        "tags": [],
        "id": "3da6da3e-e53d-4d4b-be1c-1dc5777b7ad5"
      },
      "outputs": [],
      "source": [
        "# @title 3.3. Unir (plan+ins+cpu)\n",
        "df = pd.concat([\n",
        "    dfs['natural']['plan'],\n",
        "    dfs['normalizado']['cpu'],\n",
        "    dfs['normalizado']['ins']\n",
        "])\n",
        "\n",
        "display(df.shape)\n",
        "display(df.head(3))\n",
        "dfs['plan_cpu_ins']['natural']=df"
      ]
    },
    {
      "cell_type": "code",
      "execution_count": null,
      "id": "4bdbc794-0ab9-443a-aee9-8afb0ca65871",
      "metadata": {
        "tags": [],
        "id": "4bdbc794-0ab9-443a-aee9-8afb0ca65871"
      },
      "outputs": [],
      "source": [
        "# @title 3.4. Unidades\n",
        "df = dfs['plan_cpu_ins']['natural']\n",
        "\n",
        "df = fx.converter_unidades(df)\n",
        "display(Markdown('Normalizado'))\n",
        "display(\" \".join(list(df['unid'].unique())))\n",
        "dfs['plan_cpu_ins']['normalizado'] = df"
      ]
    },
    {
      "cell_type": "markdown",
      "id": "9f613270-8754-4693-88fb-849931361558",
      "metadata": {
        "id": "9f613270-8754-4693-88fb-849931361558"
      },
      "source": [
        "# 4.Apelidar"
      ]
    },
    {
      "cell_type": "code",
      "execution_count": null,
      "id": "c9e4810a-678a-46d2-886c-6b47b980c896",
      "metadata": {
        "tags": [],
        "id": "c9e4810a-678a-46d2-886c-6b47b980c896"
      },
      "outputs": [],
      "source": [
        "# @title 4.4.Conhecidos\n",
        "df = dfs['plan_cpu_ins']['normalizado']\n",
        "df1 = dfs['natural']['grupos']\n",
        "#display(df1.shape)\n",
        "df = fx.nome_minusculo(df)\n",
        "df2 = fx.agrupar_df(df,df1)\n",
        "\n",
        "pd.set_option('display.max_colwidth', 20) # mostrar nome completo\n",
        "display(df1.shape)\n",
        "display(df1.head(3))\n",
        "pd.set_option('display.max_colwidth', None)"
      ]
    },
    {
      "cell_type": "markdown",
      "id": "1d74fd6a-41a9-4006-a8de-196947eb74e8",
      "metadata": {
        "id": "1d74fd6a-41a9-4006-a8de-196947eb74e8"
      },
      "source": [
        "## 4.5.Desconhecidos"
      ]
    },
    {
      "cell_type": "code",
      "execution_count": null,
      "id": "b938fd69-1398-4492-b6c5-20a3d2be1a5e",
      "metadata": {
        "tags": [],
        "id": "b938fd69-1398-4492-b6c5-20a3d2be1a5e"
      },
      "outputs": [],
      "source": [
        "# @title 4.5.1.Geral\n",
        "df_nan = df1[df1['qtd']>0]\n",
        "df_nan = df_nan[df_nan['apelido'].isna()]\n",
        "\n",
        "display(df_nan[['id','unid','nome','origem','aba']].head(5))\n",
        "\n",
        "pivot= df_nan.pivot_table(index=['origem','aba'], values=['nome'],aggfunc='count',margins=True)\n",
        "display(Markdown(3*\"--\"))\n",
        "display(Markdown(\"**Desconhecidos**: \"+str(df_nan.shape[0])))\n",
        "display(pivot.transpose())"
      ]
    },
    {
      "cell_type": "code",
      "execution_count": null,
      "id": "db936589-a3b6-41aa-b9f7-1fa74d7bfb1f",
      "metadata": {
        "jupyter": {
          "source_hidden": true
        },
        "tags": [],
        "id": "db936589-a3b6-41aa-b9f7-1fa74d7bfb1f"
      },
      "outputs": [],
      "source": [
        "# @title 4.5.2.Insumos\n",
        "df_ins_desconecidos = df_nan[(df_nan['origem']=='custo') & (df_nan['aba']=='ins')]\n",
        "display(df_ins_desconecidos[['nome','unid']])"
      ]
    },
    {
      "cell_type": "code",
      "execution_count": null,
      "id": "4a02f772-752e-4928-a92d-bfa90c19aecf",
      "metadata": {
        "jupyter": {
          "source_hidden": true
        },
        "tags": [],
        "id": "4a02f772-752e-4928-a92d-bfa90c19aecf"
      },
      "outputs": [],
      "source": [
        "# @title 4.5.3.CPUs\n",
        "df_cpu_desconecidos = df_nan[(df_nan['origem']=='custo') & (df_nan['aba']=='cpu')]\n",
        "display(df_cpu_desconecidos[['nome','unid']])"
      ]
    },
    {
      "cell_type": "markdown",
      "id": "4cc97d22-e098-4fa6-9966-a3f5c4881526",
      "metadata": {
        "tags": [],
        "toc-hr-collapsed": true,
        "id": "4cc97d22-e098-4fa6-9966-a3f5c4881526"
      },
      "source": [
        "# 5.Pivots"
      ]
    },
    {
      "cell_type": "code",
      "execution_count": null,
      "id": "59c587ef-113e-4070-98c3-a067c5cdaeac",
      "metadata": {
        "tags": [],
        "id": "59c587ef-113e-4070-98c3-a067c5cdaeac"
      },
      "outputs": [],
      "source": [
        "# @title 5.1.Planilha\n",
        "df2 = df1[df1['origem']=='cliente']\n",
        "\n",
        "pivot_unid_apelido_nome= df2.pivot_table(index=['unid','apelido','nome',],\n",
        "                              values=['qtd'],#values=['unit','qtd', 'parcial'],\n",
        "                              aggfunc='sum')\n",
        "\n",
        "pd.set_option('display.max_rows', None)\n",
        "display(pivot_unid_apelido_nome)"
      ]
    },
    {
      "cell_type": "markdown",
      "id": "588e3fb4-7b6d-48c6-8530-85b7fad38e42",
      "metadata": {
        "id": "588e3fb4-7b6d-48c6-8530-85b7fad38e42"
      },
      "source": [
        "### Cpu"
      ]
    },
    {
      "cell_type": "code",
      "execution_count": null,
      "id": "8f1030df-e6ad-435f-a991-54e1686b639c",
      "metadata": {
        "jupyter": {
          "source_hidden": true
        },
        "tags": [],
        "id": "8f1030df-e6ad-435f-a991-54e1686b639c"
      },
      "outputs": [],
      "source": [
        "# @title 5.2.CPU\n",
        "\n",
        "df2 = df1[(df1['origem']=='custo') & (df1['aba']=='cpu')]\n",
        "\n",
        "pivot_unid_apelido_nome= df2.pivot_table(index=['unid','apelido','nome',],\n",
        "                              values=['qtd'],#values=['unit','qtd', 'parcial'],\n",
        "                              aggfunc='sum')\n",
        "\n",
        "pd.set_option('display.max_rows', None)\n",
        "display(df2.shape)\n",
        "display(pivot_unid_apelido_nome)"
      ]
    },
    {
      "cell_type": "markdown",
      "id": "338c8127-0912-4545-aa5c-7523e5857695",
      "metadata": {
        "tags": [],
        "id": "338c8127-0912-4545-aa5c-7523e5857695"
      },
      "source": [
        "# 6.Salvar"
      ]
    },
    {
      "cell_type": "code",
      "execution_count": null,
      "id": "7c1b6a56-b571-4c11-8577-d422ba5786aa",
      "metadata": {
        "jupyter": {
          "source_hidden": true
        },
        "tags": [],
        "id": "7c1b6a56-b571-4c11-8577-d422ba5786aa"
      },
      "outputs": [],
      "source": [
        "# @title 6.1.Planilha\n",
        "salvar = 'plan_cliente//03_relatorio//'+arquivo_nome+'_plan_agrupada.xlsx'\n",
        "\n",
        "#display(df1)\n",
        "with pd.ExcelWriter(salvar) as writer:\n",
        "    # Save each DataFrame to a specific sheet\n",
        "    df1.to_excel(writer, sheet_name='00_plan', index=False)\n",
        "    pivot_unid_apelido_nome.to_excel(writer, sheet_name='01_unid_apelido_nome', index=True,merge_cells=False)\n",
        "\n",
        "display(salvar)"
      ]
    },
    {
      "cell_type": "markdown",
      "id": "ce938715-f17f-4fa6-9bed-1f0e43fac5ab",
      "metadata": {
        "toc-hr-collapsed": true,
        "id": "ce938715-f17f-4fa6-9bed-1f0e43fac5ab"
      },
      "source": [
        "# 7.Validar"
      ]
    },
    {
      "cell_type": "markdown",
      "id": "36c76df2-efee-4f91-ad4f-58a01ecbfa83",
      "metadata": {
        "tags": [],
        "id": "36c76df2-efee-4f91-ad4f-58a01ecbfa83"
      },
      "source": [
        "### Apelidos Usados"
      ]
    },
    {
      "cell_type": "code",
      "execution_count": null,
      "id": "8a90f803-bada-4adf-b43f-a69457198b6b",
      "metadata": {
        "tags": [],
        "id": "8a90f803-bada-4adf-b43f-a69457198b6b"
      },
      "outputs": [],
      "source": [
        "# @title 7.1.Planilha\n",
        "#filtro somente da planilha!!!\n",
        "df2 = df1[df1['origem']=='cliente']\n",
        "\n",
        "apelidos_usados_plan=df2['apelido'].unique()\n",
        "display('apelidos encontrados plan cliente: '+ str(len(apelidos_usados_plan)))"
      ]
    },
    {
      "cell_type": "code",
      "execution_count": null,
      "id": "53325af2-9e51-4c2d-8d21-c6d784cc56de",
      "metadata": {
        "tags": [],
        "id": "53325af2-9e51-4c2d-8d21-c6d784cc56de"
      },
      "outputs": [],
      "source": [
        "# @title 7.2.Planilha\n",
        "#filtro somente da planilha!!!\n",
        "df2 = df1[df1['origem']=='custo']\n",
        "\n",
        "apelidos_usados_cpu=df2['apelido'].unique()\n",
        "display('apelidos encontrados plan custo: '+ str(len(apelidos_usados_cpu)))"
      ]
    },
    {
      "cell_type": "markdown",
      "id": "4ccc35b6-7c1c-4637-af61-4692387126c3",
      "metadata": {
        "id": "4ccc35b6-7c1c-4637-af61-4692387126c3"
      },
      "source": [
        "### CPU"
      ]
    },
    {
      "cell_type": "code",
      "execution_count": null,
      "id": "b0952a9f-4303-4a62-9867-530daca94a47",
      "metadata": {
        "tags": [],
        "id": "b0952a9f-4303-4a62-9867-530daca94a47"
      },
      "outputs": [],
      "source": [
        "# @title 6.1.CPU\n",
        "df2 = df1[(df1['origem']=='custo') & (df1['aba']=='cpu')]\n",
        "apelidos_cpu=df2['apelido'].unique()\n",
        "display(apelidos_cpu)\n",
        "pivot_unid_apelido_nome= df2.pivot_table(index=['unid','apelido','nome',],\n",
        "                              values=['qtd'],#values=['unit','qtd', 'parcial'],\n",
        "                              aggfunc='sum')\n",
        "display(pivot_unid_apelido_nome)"
      ]
    },
    {
      "cell_type": "markdown",
      "id": "e28514df-7e4b-4378-964d-0bab7b57f55f",
      "metadata": {
        "id": "e28514df-7e4b-4378-964d-0bab7b57f55f"
      },
      "source": [
        "### Custo"
      ]
    },
    {
      "cell_type": "code",
      "execution_count": null,
      "id": "513605ac-96b4-4b01-99a6-cd4de93c7b9c",
      "metadata": {
        "tags": [],
        "id": "513605ac-96b4-4b01-99a6-cd4de93c7b9c"
      },
      "outputs": [],
      "source": [
        "# @title 6.1.CPU\n",
        "apelidos_usados_plan\n",
        "\n",
        "df1 =df1[df1['apelido'].isin(apelidos_usados_plan)]\n",
        "df2 =df1[(df1['apelido'].notnull())&(df1['aba']!='ins')]\n",
        "pivot2= df2.pivot_table(index=['unid','apelido','origem','nome','unit'],\n",
        "                              values=['qtd'],#values=['unit','qtd', 'parcial'],\n",
        "                              aggfunc='sum')\n",
        "display(pivot2)"
      ]
    }
  ],
  "metadata": {
    "kernelspec": {
      "display_name": "Python 3 (ipykernel)",
      "language": "python",
      "name": "python3"
    },
    "language_info": {
      "codemirror_mode": {
        "name": "ipython",
        "version": 3
      },
      "file_extension": ".py",
      "mimetype": "text/x-python",
      "name": "python",
      "nbconvert_exporter": "python",
      "pygments_lexer": "ipython3",
      "version": "3.11.5"
    },
    "toc-autonumbering": true,
    "toc-showcode": false,
    "toc-showmarkdowntxt": false,
    "toc-showtags": true,
    "colab": {
      "provenance": [],
      "collapsed_sections": [
        "9f613270-8754-4693-88fb-849931361558"
      ],
      "toc_visible": true,
      "include_colab_link": true
    }
  },
  "nbformat": 4,
  "nbformat_minor": 5
}